{
 "cells": [
  {
   "cell_type": "markdown",
   "metadata": {},
   "source": [
    "# Compare voxelization error metrics\n",
    "\n",
    "We have two ways of measuring voxelization error:\n",
    "\n",
    "- _smtherr_: average difference of mean curvature between neighbors\n",
    "- _nverr_: comparison of normal vectors, normalized between \\[0, 1)\n",
    "\n",
    "Here we have an experiment to compare these two metrics.\n",
    "\n",
    "```\n",
    "/neuro/labs/grantlab/research/Jennings/for/hyukjin/smoothing\n",
    "```\n",
    "\n",
    "First, we used marching-cubes on an artificial shape to obtain a surface with large voxelization error. Then we ran `adapt_object_mesh` for a varying number of iterations (i.e. `taubin`, independent variable) to gradually decrease voxelization error.\n",
    "\n",
    "Note: the ultimate challenge is that there is no mathematical difference between \"not being smooth\" and \"voxelated\", so the choice between _smtherr_ and _nverr_ is ultimately subjective."
   ]
  },
  {
   "cell_type": "code",
   "execution_count": 1,
   "metadata": {},
   "outputs": [],
   "source": [
    "import numpy as np\n",
    "import pandas as pd\n",
    "import seaborn as sns\n",
    "from sklearn.metrics import r2_score\n",
    "from pathlib import Path\n",
    "\n",
    "from tqdm.notebook import tqdm\n",
    "import os"
   ]
  },
  {
   "cell_type": "markdown",
   "metadata": {},
   "source": [
    "## Load Data"
   ]
  },
  {
   "cell_type": "code",
   "execution_count": 2,
   "metadata": {},
   "outputs": [],
   "source": [
    "data_dir = Path(os.getcwd()).parent\n",
    "\n",
    "data_files = [\n",
    "    *(data_dir / '3_smtherr').glob('*.smtherr.txt'),\n",
    "    *(data_dir / '4_nverr').glob('*.nverr.txt')\n",
    "]\n",
    "\n",
    "assert len(data_files) > 0"
   ]
  },
  {
   "cell_type": "code",
   "execution_count": 3,
   "metadata": {},
   "outputs": [],
   "source": [
    "def load_file(p: Path) -> pd.DataFrame:\n",
    "    method = p.name.split('.')[-2]\n",
    "    taubin = int(p.name.split('_')[2])\n",
    "    values = np.loadtxt(p, dtype=np.float32)\n",
    "    if len(values) != 40962:\n",
    "        raise ValueError(f'{p} contains wrong amount of data, {len(values)} != 40962')\n",
    "    return pd.DataFrame({\n",
    "        'method': [method] * len(values),\n",
    "        'taubin': [taubin] * len(values),\n",
    "        'values': values\n",
    "    })\n"
   ]
  },
  {
   "cell_type": "code",
   "execution_count": 4,
   "metadata": {},
   "outputs": [
    {
     "data": {
      "text/plain": "  0%|          | 0/102 [00:00<?, ?it/s]",
      "application/vnd.jupyter.widget-view+json": {
       "version_major": 2,
       "version_minor": 0,
       "model_id": "4606a185cdff4e12ac5e47b73a36b347"
      }
     },
     "metadata": {},
     "output_type": "display_data"
    }
   ],
   "source": [
    "with tqdm(data_files) as pbar:\n",
    "    df = pd.concat(load_file(data_file) for data_file in pbar)"
   ]
  },
  {
   "cell_type": "markdown",
   "metadata": {},
   "source": [
    "## Value Distribution\n",
    "\n",
    "Look at a histogram of the values for most voxelated v.s. most smoothed surfaces."
   ]
  },
  {
   "cell_type": "code",
   "execution_count": 5,
   "metadata": {},
   "outputs": [],
   "source": [
    "df2 = df[(df.taubin == 0) | (df.taubin == 1000)]"
   ]
  },
  {
   "cell_type": "code",
   "execution_count": 6,
   "metadata": {
    "scrolled": true
   },
   "outputs": [
    {
     "data": {
      "text/plain": "<Figure size 432x288 with 1 Axes>",
      "image/png": "[encoded data removed]"
     },
     "metadata": {},
     "output_type": "display_data"
    }
   ],
   "source": [
    "ax = sns.histplot(df2[df2.method == 'smtherr'], x='values', hue='taubin', palette='bright').set_title('smtherr')"
   ]
  },
  {
   "cell_type": "code",
   "execution_count": 7,
   "metadata": {
    "scrolled": false
   },
   "outputs": [
    {
     "data": {
      "text/plain": "Text(0.5, 1.0, 'nverr')"
     },
     "execution_count": 7,
     "metadata": {},
     "output_type": "execute_result"
    },
    {
     "data": {
      "text/plain": "<Figure size 432x288 with 1 Axes>",
      "image/png": "[encoded data removed]"
     },
     "metadata": {},
     "output_type": "display_data"
    }
   ],
   "source": [
    "sns.histplot(df2[df2.method == 'nverr'], x='values', hue='taubin', palette='bright').set_title('nverr')"
   ]
  },
  {
   "cell_type": "markdown",
   "metadata": {},
   "source": [
    "### Observations on distributions\n",
    "\n",
    "- _smtherr_ distributions tend to be low and have no maximum value.\n",
    "- _nverr_ distributions tend to be near 1, and 1 is the max value.\n",
    "- _smtherr_ distributions are **more different** i.e. futher apart than _nverr_ between voxellated and smooth."
   ]
  },
  {
   "cell_type": "markdown",
   "metadata": {},
   "source": [
    "## Plot regression curves: smoothness v.s. error\n",
    "\n",
    "(these will take a long time!)"
   ]
  },
  {
   "cell_type": "code",
   "execution_count": 8,
   "metadata": {},
   "outputs": [],
   "source": [
    "def linear_regression(df):\n",
    "    x = np.array(df['taubin'], dtype=np.float32)\n",
    "    y = np.array(df['values'], dtype=np.float32)\n",
    "    A = np.vstack([x, np.ones(len(x))]).T\n",
    "    \n",
    "    m, c = np.linalg.lstsq(A, y, rcond=None)[0]\n",
    "    pred = x * m + c\n",
    "    r2 = r2_score(y, pred)\n",
    "    print(f'y = {m:.4E}*x + {c:.4f}, r^2={r2:.4f}')"
   ]
  },
  {
   "cell_type": "code",
   "execution_count": 9,
   "metadata": {},
   "outputs": [
    {
     "ename": "KeyboardInterrupt",
     "evalue": "",
     "output_type": "error",
     "traceback": [
      "\u001B[0;31m---------------------------------------------------------------------------\u001B[0m",
      "\u001B[0;31mKeyboardInterrupt\u001B[0m                         Traceback (most recent call last)",
      "Input \u001B[0;32mIn [9]\u001B[0m, in \u001B[0;36m<cell line: 2>\u001B[0;34m()\u001B[0m\n\u001B[1;32m      1\u001B[0m s \u001B[38;5;241m=\u001B[39m df[df\u001B[38;5;241m.\u001B[39mmethod \u001B[38;5;241m==\u001B[39m \u001B[38;5;124m'\u001B[39m\u001B[38;5;124msmtherr\u001B[39m\u001B[38;5;124m'\u001B[39m]\n\u001B[0;32m----> 2\u001B[0m \u001B[43msns\u001B[49m\u001B[38;5;241;43m.\u001B[39;49m\u001B[43mlmplot\u001B[49m\u001B[43m(\u001B[49m\u001B[43ms\u001B[49m\u001B[43m,\u001B[49m\u001B[43m \u001B[49m\u001B[43mx\u001B[49m\u001B[38;5;241;43m=\u001B[39;49m\u001B[38;5;124;43m'\u001B[39;49m\u001B[38;5;124;43mtaubin\u001B[39;49m\u001B[38;5;124;43m'\u001B[39;49m\u001B[43m,\u001B[49m\u001B[43m \u001B[49m\u001B[43my\u001B[49m\u001B[38;5;241;43m=\u001B[39;49m\u001B[38;5;124;43m'\u001B[39;49m\u001B[38;5;124;43mvalues\u001B[39;49m\u001B[38;5;124;43m'\u001B[39;49m\u001B[43m,\u001B[49m\u001B[43m \u001B[49m\u001B[43mscatter\u001B[49m\u001B[38;5;241;43m=\u001B[39;49m\u001B[38;5;28;43;01mFalse\u001B[39;49;00m\u001B[43m)\u001B[49m\u001B[38;5;241m.\u001B[39mfig\u001B[38;5;241m.\u001B[39msuptitle(\u001B[38;5;124m'\u001B[39m\u001B[38;5;124msmtherr\u001B[39m\u001B[38;5;124m'\u001B[39m)\n\u001B[1;32m      3\u001B[0m linear_regression(s)\n",
      "File \u001B[0;32m/neuro/labs/grantlab/research/Jennings/progs/opt/miniconda3/envs/datasci/lib/python3.9/site-packages/seaborn/regression.py:635\u001B[0m, in \u001B[0;36mlmplot\u001B[0;34m(data, x, y, hue, col, row, palette, col_wrap, height, aspect, markers, sharex, sharey, hue_order, col_order, row_order, legend, legend_out, x_estimator, x_bins, x_ci, scatter, fit_reg, ci, n_boot, units, seed, order, logistic, lowess, robust, logx, x_partial, y_partial, truncate, x_jitter, y_jitter, scatter_kws, line_kws, facet_kws)\u001B[0m\n\u001B[1;32m    626\u001B[0m \u001B[38;5;66;03m# Draw the regression plot on each facet\u001B[39;00m\n\u001B[1;32m    627\u001B[0m regplot_kws \u001B[38;5;241m=\u001B[39m \u001B[38;5;28mdict\u001B[39m(\n\u001B[1;32m    628\u001B[0m     x_estimator\u001B[38;5;241m=\u001B[39mx_estimator, x_bins\u001B[38;5;241m=\u001B[39mx_bins, x_ci\u001B[38;5;241m=\u001B[39mx_ci,\n\u001B[1;32m    629\u001B[0m     scatter\u001B[38;5;241m=\u001B[39mscatter, fit_reg\u001B[38;5;241m=\u001B[39mfit_reg, ci\u001B[38;5;241m=\u001B[39mci, n_boot\u001B[38;5;241m=\u001B[39mn_boot, units\u001B[38;5;241m=\u001B[39munits,\n\u001B[0;32m   (...)\u001B[0m\n\u001B[1;32m    633\u001B[0m     scatter_kws\u001B[38;5;241m=\u001B[39mscatter_kws, line_kws\u001B[38;5;241m=\u001B[39mline_kws,\n\u001B[1;32m    634\u001B[0m )\n\u001B[0;32m--> 635\u001B[0m \u001B[43mfacets\u001B[49m\u001B[38;5;241;43m.\u001B[39;49m\u001B[43mmap_dataframe\u001B[49m\u001B[43m(\u001B[49m\u001B[43mregplot\u001B[49m\u001B[43m,\u001B[49m\u001B[43m \u001B[49m\u001B[43mx\u001B[49m\u001B[38;5;241;43m=\u001B[39;49m\u001B[43mx\u001B[49m\u001B[43m,\u001B[49m\u001B[43m \u001B[49m\u001B[43my\u001B[49m\u001B[38;5;241;43m=\u001B[39;49m\u001B[43my\u001B[49m\u001B[43m,\u001B[49m\u001B[43m \u001B[49m\u001B[38;5;241;43m*\u001B[39;49m\u001B[38;5;241;43m*\u001B[39;49m\u001B[43mregplot_kws\u001B[49m\u001B[43m)\u001B[49m\n\u001B[1;32m    636\u001B[0m facets\u001B[38;5;241m.\u001B[39mset_axis_labels(x, y)\n\u001B[1;32m    638\u001B[0m \u001B[38;5;66;03m# Add a legend\u001B[39;00m\n",
      "File \u001B[0;32m/neuro/labs/grantlab/research/Jennings/progs/opt/miniconda3/envs/datasci/lib/python3.9/site-packages/seaborn/axisgrid.py:819\u001B[0m, in \u001B[0;36mFacetGrid.map_dataframe\u001B[0;34m(self, func, *args, **kwargs)\u001B[0m\n\u001B[1;32m    816\u001B[0m     kwargs[\u001B[38;5;124m\"\u001B[39m\u001B[38;5;124mdata\u001B[39m\u001B[38;5;124m\"\u001B[39m] \u001B[38;5;241m=\u001B[39m data_ijk\n\u001B[1;32m    818\u001B[0m     \u001B[38;5;66;03m# Draw the plot\u001B[39;00m\n\u001B[0;32m--> 819\u001B[0m     \u001B[38;5;28;43mself\u001B[39;49m\u001B[38;5;241;43m.\u001B[39;49m\u001B[43m_facet_plot\u001B[49m\u001B[43m(\u001B[49m\u001B[43mfunc\u001B[49m\u001B[43m,\u001B[49m\u001B[43m \u001B[49m\u001B[43max\u001B[49m\u001B[43m,\u001B[49m\u001B[43m \u001B[49m\u001B[43margs\u001B[49m\u001B[43m,\u001B[49m\u001B[43m \u001B[49m\u001B[43mkwargs\u001B[49m\u001B[43m)\u001B[49m\n\u001B[1;32m    821\u001B[0m \u001B[38;5;66;03m# For axis labels, prefer to use positional args for backcompat\u001B[39;00m\n\u001B[1;32m    822\u001B[0m \u001B[38;5;66;03m# but also extract the x/y kwargs and use if no corresponding arg\u001B[39;00m\n\u001B[1;32m    823\u001B[0m axis_labels \u001B[38;5;241m=\u001B[39m [kwargs\u001B[38;5;241m.\u001B[39mget(\u001B[38;5;124m\"\u001B[39m\u001B[38;5;124mx\u001B[39m\u001B[38;5;124m\"\u001B[39m, \u001B[38;5;28;01mNone\u001B[39;00m), kwargs\u001B[38;5;241m.\u001B[39mget(\u001B[38;5;124m\"\u001B[39m\u001B[38;5;124my\u001B[39m\u001B[38;5;124m\"\u001B[39m, \u001B[38;5;28;01mNone\u001B[39;00m)]\n",
      "File \u001B[0;32m/neuro/labs/grantlab/research/Jennings/progs/opt/miniconda3/envs/datasci/lib/python3.9/site-packages/seaborn/axisgrid.py:848\u001B[0m, in \u001B[0;36mFacetGrid._facet_plot\u001B[0;34m(self, func, ax, plot_args, plot_kwargs)\u001B[0m\n\u001B[1;32m    846\u001B[0m     plot_args \u001B[38;5;241m=\u001B[39m []\n\u001B[1;32m    847\u001B[0m     plot_kwargs[\u001B[38;5;124m\"\u001B[39m\u001B[38;5;124max\u001B[39m\u001B[38;5;124m\"\u001B[39m] \u001B[38;5;241m=\u001B[39m ax\n\u001B[0;32m--> 848\u001B[0m \u001B[43mfunc\u001B[49m\u001B[43m(\u001B[49m\u001B[38;5;241;43m*\u001B[39;49m\u001B[43mplot_args\u001B[49m\u001B[43m,\u001B[49m\u001B[43m \u001B[49m\u001B[38;5;241;43m*\u001B[39;49m\u001B[38;5;241;43m*\u001B[39;49m\u001B[43mplot_kwargs\u001B[49m\u001B[43m)\u001B[49m\n\u001B[1;32m    850\u001B[0m \u001B[38;5;66;03m# Sort out the supporting information\u001B[39;00m\n\u001B[1;32m    851\u001B[0m \u001B[38;5;28mself\u001B[39m\u001B[38;5;241m.\u001B[39m_update_legend_data(ax)\n",
      "File \u001B[0;32m/neuro/labs/grantlab/research/Jennings/progs/opt/miniconda3/envs/datasci/lib/python3.9/site-packages/seaborn/regression.py:759\u001B[0m, in \u001B[0;36mregplot\u001B[0;34m(data, x, y, x_estimator, x_bins, x_ci, scatter, fit_reg, ci, n_boot, units, seed, order, logistic, lowess, robust, logx, x_partial, y_partial, truncate, dropna, x_jitter, y_jitter, label, color, marker, scatter_kws, line_kws, ax)\u001B[0m\n\u001B[1;32m    757\u001B[0m scatter_kws[\u001B[38;5;124m\"\u001B[39m\u001B[38;5;124mmarker\u001B[39m\u001B[38;5;124m\"\u001B[39m] \u001B[38;5;241m=\u001B[39m marker\n\u001B[1;32m    758\u001B[0m line_kws \u001B[38;5;241m=\u001B[39m {} \u001B[38;5;28;01mif\u001B[39;00m line_kws \u001B[38;5;129;01mis\u001B[39;00m \u001B[38;5;28;01mNone\u001B[39;00m \u001B[38;5;28;01melse\u001B[39;00m copy\u001B[38;5;241m.\u001B[39mcopy(line_kws)\n\u001B[0;32m--> 759\u001B[0m \u001B[43mplotter\u001B[49m\u001B[38;5;241;43m.\u001B[39;49m\u001B[43mplot\u001B[49m\u001B[43m(\u001B[49m\u001B[43max\u001B[49m\u001B[43m,\u001B[49m\u001B[43m \u001B[49m\u001B[43mscatter_kws\u001B[49m\u001B[43m,\u001B[49m\u001B[43m \u001B[49m\u001B[43mline_kws\u001B[49m\u001B[43m)\u001B[49m\n\u001B[1;32m    760\u001B[0m \u001B[38;5;28;01mreturn\u001B[39;00m ax\n",
      "File \u001B[0;32m/neuro/labs/grantlab/research/Jennings/progs/opt/miniconda3/envs/datasci/lib/python3.9/site-packages/seaborn/regression.py:368\u001B[0m, in \u001B[0;36m_RegressionPlotter.plot\u001B[0;34m(self, ax, scatter_kws, line_kws)\u001B[0m\n\u001B[1;32m    365\u001B[0m     \u001B[38;5;28mself\u001B[39m\u001B[38;5;241m.\u001B[39mscatterplot(ax, scatter_kws)\n\u001B[1;32m    367\u001B[0m \u001B[38;5;28;01mif\u001B[39;00m \u001B[38;5;28mself\u001B[39m\u001B[38;5;241m.\u001B[39mfit_reg:\n\u001B[0;32m--> 368\u001B[0m     \u001B[38;5;28;43mself\u001B[39;49m\u001B[38;5;241;43m.\u001B[39;49m\u001B[43mlineplot\u001B[49m\u001B[43m(\u001B[49m\u001B[43max\u001B[49m\u001B[43m,\u001B[49m\u001B[43m \u001B[49m\u001B[43mline_kws\u001B[49m\u001B[43m)\u001B[49m\n\u001B[1;32m    370\u001B[0m \u001B[38;5;66;03m# Label the axes\u001B[39;00m\n\u001B[1;32m    371\u001B[0m \u001B[38;5;28;01mif\u001B[39;00m \u001B[38;5;28mhasattr\u001B[39m(\u001B[38;5;28mself\u001B[39m\u001B[38;5;241m.\u001B[39mx, \u001B[38;5;124m\"\u001B[39m\u001B[38;5;124mname\u001B[39m\u001B[38;5;124m\"\u001B[39m):\n",
      "File \u001B[0;32m/neuro/labs/grantlab/research/Jennings/progs/opt/miniconda3/envs/datasci/lib/python3.9/site-packages/seaborn/regression.py:413\u001B[0m, in \u001B[0;36m_RegressionPlotter.lineplot\u001B[0;34m(self, ax, kws)\u001B[0m\n\u001B[1;32m    411\u001B[0m \u001B[38;5;124;03m\"\"\"Draw the model.\"\"\"\u001B[39;00m\n\u001B[1;32m    412\u001B[0m \u001B[38;5;66;03m# Fit the regression model\u001B[39;00m\n\u001B[0;32m--> 413\u001B[0m grid, yhat, err_bands \u001B[38;5;241m=\u001B[39m \u001B[38;5;28;43mself\u001B[39;49m\u001B[38;5;241;43m.\u001B[39;49m\u001B[43mfit_regression\u001B[49m\u001B[43m(\u001B[49m\u001B[43max\u001B[49m\u001B[43m)\u001B[49m\n\u001B[1;32m    414\u001B[0m edges \u001B[38;5;241m=\u001B[39m grid[\u001B[38;5;241m0\u001B[39m], grid[\u001B[38;5;241m-\u001B[39m\u001B[38;5;241m1\u001B[39m]\n\u001B[1;32m    416\u001B[0m \u001B[38;5;66;03m# Get set default aesthetics\u001B[39;00m\n",
      "File \u001B[0;32m/neuro/labs/grantlab/research/Jennings/progs/opt/miniconda3/envs/datasci/lib/python3.9/site-packages/seaborn/regression.py:219\u001B[0m, in \u001B[0;36m_RegressionPlotter.fit_regression\u001B[0;34m(self, ax, x_range, grid)\u001B[0m\n\u001B[1;32m    217\u001B[0m     yhat, yhat_boots \u001B[38;5;241m=\u001B[39m \u001B[38;5;28mself\u001B[39m\u001B[38;5;241m.\u001B[39mfit_logx(grid)\n\u001B[1;32m    218\u001B[0m \u001B[38;5;28;01melse\u001B[39;00m:\n\u001B[0;32m--> 219\u001B[0m     yhat, yhat_boots \u001B[38;5;241m=\u001B[39m \u001B[38;5;28;43mself\u001B[39;49m\u001B[38;5;241;43m.\u001B[39;49m\u001B[43mfit_fast\u001B[49m\u001B[43m(\u001B[49m\u001B[43mgrid\u001B[49m\u001B[43m)\u001B[49m\n\u001B[1;32m    221\u001B[0m \u001B[38;5;66;03m# Compute the confidence interval at each grid point\u001B[39;00m\n\u001B[1;32m    222\u001B[0m \u001B[38;5;28;01mif\u001B[39;00m ci \u001B[38;5;129;01mis\u001B[39;00m \u001B[38;5;28;01mNone\u001B[39;00m:\n",
      "File \u001B[0;32m/neuro/labs/grantlab/research/Jennings/progs/opt/miniconda3/envs/datasci/lib/python3.9/site-packages/seaborn/regression.py:240\u001B[0m, in \u001B[0;36m_RegressionPlotter.fit_fast\u001B[0;34m(self, grid)\u001B[0m\n\u001B[1;32m    237\u001B[0m \u001B[38;5;28;01mif\u001B[39;00m \u001B[38;5;28mself\u001B[39m\u001B[38;5;241m.\u001B[39mci \u001B[38;5;129;01mis\u001B[39;00m \u001B[38;5;28;01mNone\u001B[39;00m:\n\u001B[1;32m    238\u001B[0m     \u001B[38;5;28;01mreturn\u001B[39;00m yhat, \u001B[38;5;28;01mNone\u001B[39;00m\n\u001B[0;32m--> 240\u001B[0m beta_boots \u001B[38;5;241m=\u001B[39m \u001B[43malgo\u001B[49m\u001B[38;5;241;43m.\u001B[39;49m\u001B[43mbootstrap\u001B[49m\u001B[43m(\u001B[49m\u001B[43mX\u001B[49m\u001B[43m,\u001B[49m\u001B[43m \u001B[49m\u001B[43my\u001B[49m\u001B[43m,\u001B[49m\n\u001B[1;32m    241\u001B[0m \u001B[43m                            \u001B[49m\u001B[43mfunc\u001B[49m\u001B[38;5;241;43m=\u001B[39;49m\u001B[43mreg_func\u001B[49m\u001B[43m,\u001B[49m\n\u001B[1;32m    242\u001B[0m \u001B[43m                            \u001B[49m\u001B[43mn_boot\u001B[49m\u001B[38;5;241;43m=\u001B[39;49m\u001B[38;5;28;43mself\u001B[39;49m\u001B[38;5;241;43m.\u001B[39;49m\u001B[43mn_boot\u001B[49m\u001B[43m,\u001B[49m\n\u001B[1;32m    243\u001B[0m \u001B[43m                            \u001B[49m\u001B[43munits\u001B[49m\u001B[38;5;241;43m=\u001B[39;49m\u001B[38;5;28;43mself\u001B[39;49m\u001B[38;5;241;43m.\u001B[39;49m\u001B[43munits\u001B[49m\u001B[43m,\u001B[49m\n\u001B[1;32m    244\u001B[0m \u001B[43m                            \u001B[49m\u001B[43mseed\u001B[49m\u001B[38;5;241;43m=\u001B[39;49m\u001B[38;5;28;43mself\u001B[39;49m\u001B[38;5;241;43m.\u001B[39;49m\u001B[43mseed\u001B[49m\u001B[43m)\u001B[49m\u001B[38;5;241m.\u001B[39mT\n\u001B[1;32m    245\u001B[0m yhat_boots \u001B[38;5;241m=\u001B[39m grid\u001B[38;5;241m.\u001B[39mdot(beta_boots)\u001B[38;5;241m.\u001B[39mT\n\u001B[1;32m    246\u001B[0m \u001B[38;5;28;01mreturn\u001B[39;00m yhat, yhat_boots\n",
      "File \u001B[0;32m/neuro/labs/grantlab/research/Jennings/progs/opt/miniconda3/envs/datasci/lib/python3.9/site-packages/seaborn/algorithms.py:98\u001B[0m, in \u001B[0;36mbootstrap\u001B[0;34m(*args, **kwargs)\u001B[0m\n\u001B[1;32m     96\u001B[0m     resampler \u001B[38;5;241m=\u001B[39m integers(\u001B[38;5;241m0\u001B[39m, n, n, dtype\u001B[38;5;241m=\u001B[39mnp\u001B[38;5;241m.\u001B[39mintp)  \u001B[38;5;66;03m# intp is indexing dtype\u001B[39;00m\n\u001B[1;32m     97\u001B[0m     sample \u001B[38;5;241m=\u001B[39m [a\u001B[38;5;241m.\u001B[39mtake(resampler, axis\u001B[38;5;241m=\u001B[39m\u001B[38;5;241m0\u001B[39m) \u001B[38;5;28;01mfor\u001B[39;00m a \u001B[38;5;129;01min\u001B[39;00m args]\n\u001B[0;32m---> 98\u001B[0m     boot_dist\u001B[38;5;241m.\u001B[39mappend(\u001B[43mf\u001B[49m\u001B[43m(\u001B[49m\u001B[38;5;241;43m*\u001B[39;49m\u001B[43msample\u001B[49m\u001B[43m,\u001B[49m\u001B[43m \u001B[49m\u001B[38;5;241;43m*\u001B[39;49m\u001B[38;5;241;43m*\u001B[39;49m\u001B[43mfunc_kwargs\u001B[49m\u001B[43m)\u001B[49m)\n\u001B[1;32m     99\u001B[0m \u001B[38;5;28;01mreturn\u001B[39;00m np\u001B[38;5;241m.\u001B[39marray(boot_dist)\n",
      "File \u001B[0;32m/neuro/labs/grantlab/research/Jennings/progs/opt/miniconda3/envs/datasci/lib/python3.9/site-packages/seaborn/regression.py:232\u001B[0m, in \u001B[0;36m_RegressionPlotter.fit_fast.<locals>.reg_func\u001B[0;34m(_x, _y)\u001B[0m\n\u001B[1;32m    231\u001B[0m \u001B[38;5;28;01mdef\u001B[39;00m \u001B[38;5;21mreg_func\u001B[39m(_x, _y):\n\u001B[0;32m--> 232\u001B[0m     \u001B[38;5;28;01mreturn\u001B[39;00m \u001B[43mnp\u001B[49m\u001B[38;5;241;43m.\u001B[39;49m\u001B[43mlinalg\u001B[49m\u001B[38;5;241;43m.\u001B[39;49m\u001B[43mpinv\u001B[49m\u001B[43m(\u001B[49m\u001B[43m_x\u001B[49m\u001B[43m)\u001B[49m\u001B[38;5;241m.\u001B[39mdot(_y)\n",
      "File \u001B[0;32m<__array_function__ internals>:180\u001B[0m, in \u001B[0;36mpinv\u001B[0;34m(*args, **kwargs)\u001B[0m\n",
      "File \u001B[0;32m/neuro/labs/grantlab/research/Jennings/progs/opt/miniconda3/envs/datasci/lib/python3.9/site-packages/numpy/linalg/linalg.py:1998\u001B[0m, in \u001B[0;36mpinv\u001B[0;34m(a, rcond, hermitian)\u001B[0m\n\u001B[1;32m   1995\u001B[0m s \u001B[38;5;241m=\u001B[39m divide(\u001B[38;5;241m1\u001B[39m, s, where\u001B[38;5;241m=\u001B[39mlarge, out\u001B[38;5;241m=\u001B[39ms)\n\u001B[1;32m   1996\u001B[0m s[\u001B[38;5;241m~\u001B[39mlarge] \u001B[38;5;241m=\u001B[39m \u001B[38;5;241m0\u001B[39m\n\u001B[0;32m-> 1998\u001B[0m res \u001B[38;5;241m=\u001B[39m \u001B[43mmatmul\u001B[49m\u001B[43m(\u001B[49m\u001B[43mtranspose\u001B[49m\u001B[43m(\u001B[49m\u001B[43mvt\u001B[49m\u001B[43m)\u001B[49m\u001B[43m,\u001B[49m\u001B[43m \u001B[49m\u001B[43mmultiply\u001B[49m\u001B[43m(\u001B[49m\u001B[43ms\u001B[49m\u001B[43m[\u001B[49m\u001B[38;5;241;43m.\u001B[39;49m\u001B[38;5;241;43m.\u001B[39;49m\u001B[38;5;241;43m.\u001B[39;49m\u001B[43m,\u001B[49m\u001B[43m \u001B[49m\u001B[43mnewaxis\u001B[49m\u001B[43m]\u001B[49m\u001B[43m,\u001B[49m\u001B[43m \u001B[49m\u001B[43mtranspose\u001B[49m\u001B[43m(\u001B[49m\u001B[43mu\u001B[49m\u001B[43m)\u001B[49m\u001B[43m)\u001B[49m\u001B[43m)\u001B[49m\n\u001B[1;32m   1999\u001B[0m \u001B[38;5;28;01mreturn\u001B[39;00m wrap(res)\n",
      "\u001B[0;31mKeyboardInterrupt\u001B[0m: "
     ]
    },
    {
     "data": {
      "text/plain": "<Figure size 360x360 with 1 Axes>",
      "image/png": "[encoded data removed]"
     },
     "metadata": {},
     "output_type": "display_data"
    }
   ],
   "source": [
    "s = df[df.method == 'smtherr']\n",
    "sns.lmplot(s, x='taubin', y='values', scatter=False).fig.suptitle('smtherr')\n",
    "linear_regression(s)"
   ]
  },
  {
   "cell_type": "code",
   "execution_count": null,
   "metadata": {
    "scrolled": false
   },
   "outputs": [],
   "source": [
    "n = df[df.method == 'nverr']\n",
    "sns.lmplot(n, x='taubin', y='values', scatter=False).fig.suptitle('nverr')\n",
    "linear_regression(n)"
   ]
  },
  {
   "cell_type": "markdown",
   "metadata": {},
   "source": [
    "### Observations about curves\n",
    "\n",
    "_smtherr_ has a much stronger correlation with number of `adapt_object_mesh` iterations: comparing _r²_ values, 0.0772 \\> 0.0003\n",
    "\n",
    "Linear regression seems appropriate (up to a point, since there is an upper limit to smoothness called being flat). \n",
    "_r²_ are apparently low because of noise.\n",
    "\n",
    "TODO: to improve correlations, we can try masking the data to include only where voxelization error exists, and disregard values where the surface is known to be OK."
   ]
  },
  {
   "cell_type": "markdown",
   "source": [
    "### The Effect of `adapt_object_mesh` iterations on Smoothness Error"
   ],
   "metadata": {
    "collapsed": false
   }
  },
  {
   "cell_type": "code",
   "execution_count": 35,
   "outputs": [],
   "source": [
    "averaged = df[df.method == 'smtherr'].groupby(by='taubin').mean()\n",
    "averaged.rename(columns={'values': 'smtherr'}, inplace=True)\n",
    "averaged.to_csv('taubin_vs_smtherr.csv')"
   ],
   "metadata": {
    "collapsed": false
   }
  }
 ],
 "metadata": {
  "kernelspec": {
   "display_name": "Python 3 (ipykernel)",
   "language": "python",
   "name": "python3"
  },
  "language_info": {
   "codemirror_mode": {
    "name": "ipython",
    "version": 3
   },
   "file_extension": ".py",
   "mimetype": "text/x-python",
   "name": "python",
   "nbconvert_exporter": "python",
   "pygments_lexer": "ipython3",
   "version": "3.9.12"
  }
 },
 "nbformat": 4,
 "nbformat_minor": 1
}
